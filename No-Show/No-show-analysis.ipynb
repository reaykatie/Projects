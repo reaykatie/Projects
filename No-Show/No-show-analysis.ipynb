{
 "cells": [
  {
   "cell_type": "code",
   "execution_count": 1,
   "metadata": {},
   "outputs": [],
   "source": [
    "import pandas as pd\n",
    "import numpy as np\n",
    "import seaborn as sns\n",
    "import matplotlib.pyplot as plt\n",
    "import missingno as msgn\n",
    "\n",
    "pd.options.display.max_columns = 200\n",
    "\n",
    "data = pd.read_csv('No_Show_data_prepared.csv')\n"
   ]
  },
  {
   "cell_type": "code",
   "execution_count": 2,
   "metadata": {},
   "outputs": [],
   "source": [
    "from sklearn.model_selection import train_test_split\n",
    "\n",
    "from sklearn.linear_model import LogisticRegression\n",
    "lr = LogisticRegression()\n",
    "\n",
    "# Seeing if we can predict no-shows from the rest of the data using logistic regression classifier. \n",
    "# We are excluding Neighbourhood as it produced too many dummy columns to include in the model.\n",
    "\n",
    "y = data['No-show']\n",
    "X = data.drop(['No-show', 'Neighbourhood'], axis=1)\n",
    "X = pd.get_dummies(X, drop_first=True)\n",
    "\n",
    "X_train, X_test, y_train, y_test = train_test_split(X, y, test_size=0.20)"
   ]
  },
  {
   "cell_type": "code",
   "execution_count": 3,
   "metadata": {},
   "outputs": [
    {
     "data": {
      "text/plain": [
       "0    0.79866\n",
       "1    0.20134\n",
       "Name: No-show, dtype: float64"
      ]
     },
     "execution_count": 3,
     "metadata": {},
     "output_type": "execute_result"
    }
   ],
   "source": [
    "# Checking the baseline\n",
    "\n",
    "y_test.value_counts(normalize=True)"
   ]
  },
  {
   "cell_type": "code",
   "execution_count": 4,
   "metadata": {},
   "outputs": [
    {
     "data": {
      "text/plain": [
       "0.7980264349085642"
      ]
     },
     "execution_count": 4,
     "metadata": {},
     "output_type": "execute_result"
    }
   ],
   "source": [
    "lr.fit(X_train, y_train)\n",
    "lr.score(X_test, y_test)"
   ]
  },
  {
   "cell_type": "code",
   "execution_count": 5,
   "metadata": {},
   "outputs": [],
   "source": [
    "# We can see that the logistic regression model performs at essentially baseline.\n",
    "# Let's try a different classification model."
   ]
  },
  {
   "cell_type": "code",
   "execution_count": 6,
   "metadata": {},
   "outputs": [],
   "source": [
    "# Trying using a KNN classifier\n",
    "\n",
    "from sklearn.neighbors import KNeighborsClassifier\n",
    "knn = KNeighborsClassifier()\n",
    "from sklearn.preprocessing import StandardScaler\n",
    "ss = StandardScaler()"
   ]
  },
  {
   "cell_type": "code",
   "execution_count": null,
   "metadata": {},
   "outputs": [],
   "source": [
    "y = data['No-show']\n",
    "X = data.drop(['No-show', 'Neighbourhood'], axis=1)\n",
    "X = pd.get_dummies(X, drop_first=True)\n",
    "X = ss.fit_transform(X)\n",
    "\n",
    "X_train, X_test, y_train, y_test = train_test_split(X, y, test_size=0.20)\n",
    "knn.fit(X_train, y_train)\n",
    "knn.score(X_test, y_test)"
   ]
  },
  {
   "cell_type": "code",
   "execution_count": null,
   "metadata": {},
   "outputs": [],
   "source": [
    "# It was not possible to run the KNN classifier."
   ]
  },
  {
   "cell_type": "code",
   "execution_count": 7,
   "metadata": {},
   "outputs": [],
   "source": [
    "from sklearn.svm import LinearSVC\n",
    "svc = LinearSVC()"
   ]
  },
  {
   "cell_type": "code",
   "execution_count": 8,
   "metadata": {},
   "outputs": [
    {
     "data": {
      "text/plain": [
       "0.7967137425312331"
      ]
     },
     "execution_count": 8,
     "metadata": {},
     "output_type": "execute_result"
    }
   ],
   "source": [
    "y = data['No-show']\n",
    "X = data.drop(['No-show', 'Neighbourhood'], axis=1)\n",
    "X = pd.get_dummies(X, drop_first=True)\n",
    "X = ss.fit_transform(X)\n",
    "\n",
    "X_train, X_test, y_train, y_test = train_test_split(X, y, test_size=0.20)\n",
    "svc.fit(X_train, y_train)\n",
    "svc.score(X_test, y_test)"
   ]
  },
  {
   "cell_type": "code",
   "execution_count": 9,
   "metadata": {},
   "outputs": [
    {
     "data": {
      "text/plain": [
       "0    0.796985\n",
       "1    0.203015\n",
       "Name: No-show, dtype: float64"
      ]
     },
     "execution_count": 9,
     "metadata": {},
     "output_type": "execute_result"
    }
   ],
   "source": [
    "y_test.value_counts(normalize=True)"
   ]
  },
  {
   "cell_type": "code",
   "execution_count": 12,
   "metadata": {},
   "outputs": [],
   "source": [
    "# The SVM also performs at baseline.\n",
    "# None of these models was able to outperform baseline.\n",
    "# We return to the EDA to see which features may be of most interest."
   ]
  },
  {
   "cell_type": "code",
   "execution_count": 9,
   "metadata": {},
   "outputs": [
    {
     "data": {
      "text/plain": [
       "['Gender',\n",
       " 'Age',\n",
       " 'Neighbourhood',\n",
       " 'Scholarship',\n",
       " 'Hypertension',\n",
       " 'Diabetes',\n",
       " 'Alcoholism',\n",
       " 'Handicap',\n",
       " 'SMS_received',\n",
       " 'No-show',\n",
       " 'ScheduledDay_dayofweek',\n",
       " 'ScheduledDay_dayofmonth',\n",
       " 'ScheduledDay_month',\n",
       " 'ScheduledDay_timehour',\n",
       " 'ScheduledDay_timeminute',\n",
       " 'AppointmentDay_dayofweek',\n",
       " 'AppointmentDay_dayofmonth',\n",
       " 'AppointmentDay_month']"
      ]
     },
     "execution_count": 9,
     "metadata": {},
     "output_type": "execute_result"
    }
   ],
   "source": [
    "list(data.columns)"
   ]
  },
  {
   "cell_type": "code",
   "execution_count": 13,
   "metadata": {},
   "outputs": [],
   "source": [
    "# It might be interesting to see if appointments at the weekend are more often no-shows "
   ]
  },
  {
   "cell_type": "code",
   "execution_count": 14,
   "metadata": {},
   "outputs": [
    {
     "data": {
      "text/plain": [
       "array(['Friday', 'Wednesday', 'Tuesday', 'Thursday', 'Monday', 'Saturday'],\n",
       "      dtype=object)"
      ]
     },
     "execution_count": 14,
     "metadata": {},
     "output_type": "execute_result"
    }
   ],
   "source": [
    "data['ScheduledDay_dayofweek'].unique()"
   ]
  },
  {
   "cell_type": "code",
   "execution_count": 15,
   "metadata": {},
   "outputs": [],
   "source": [
    "data['Weekend?'] = data['ScheduledDay_dayofweek'].apply(lambda x: 1 if x=='Saturday' else 0)"
   ]
  },
  {
   "cell_type": "code",
   "execution_count": 16,
   "metadata": {},
   "outputs": [
    {
     "data": {
      "text/plain": [
       "2"
      ]
     },
     "execution_count": 16,
     "metadata": {},
     "output_type": "execute_result"
    }
   ],
   "source": [
    "data['Weekend?'].nunique()"
   ]
  },
  {
   "cell_type": "code",
   "execution_count": 17,
   "metadata": {},
   "outputs": [
    {
     "data": {
      "text/plain": [
       "0    110435\n",
       "1        24\n",
       "Name: Weekend?, dtype: int64"
      ]
     },
     "execution_count": 17,
     "metadata": {},
     "output_type": "execute_result"
    }
   ],
   "source": [
    "data['Weekend?'].value_counts()"
   ]
  },
  {
   "cell_type": "code",
   "execution_count": 18,
   "metadata": {},
   "outputs": [
    {
     "data": {
      "text/plain": [
       "<matplotlib.axes._subplots.AxesSubplot at 0x27340827ac8>"
      ]
     },
     "execution_count": 18,
     "metadata": {},
     "output_type": "execute_result"
    },
    {
     "data": {
      "image/png": "[encoded data removed]",
      "text/plain": [
       "<Figure size 432x288 with 1 Axes>"
      ]
     },
     "metadata": {},
     "output_type": "display_data"
    }
   ],
   "source": [
    "data.groupby('Weekend?')['No-show'].mean().plot.bar()"
   ]
  },
  {
   "cell_type": "code",
   "execution_count": 19,
   "metadata": {},
   "outputs": [
    {
     "data": {
      "text/plain": [
       "Weekend?\n",
       "0    0.201893\n",
       "1    0.041667\n",
       "Name: No-show, dtype: float64"
      ]
     },
     "execution_count": 19,
     "metadata": {},
     "output_type": "execute_result"
    }
   ],
   "source": [
    "data.groupby('Weekend?')['No-show'].mean()"
   ]
  },
  {
   "cell_type": "code",
   "execution_count": 20,
   "metadata": {},
   "outputs": [
    {
     "data": {
      "text/plain": [
       "Ttest_indResult(statistic=-3.8438054985076606, pvalue=0.0008265385023729408)"
      ]
     },
     "execution_count": 20,
     "metadata": {},
     "output_type": "execute_result"
    }
   ],
   "source": [
    "from scipy.stats import ttest_ind\n",
    "x = data[data['Weekend?']==1]['No-show']\n",
    "y = data[data['Weekend?']==0]['No-show']\n",
    "\n",
    "ttest_ind(x, y, equal_var=False)"
   ]
  },
  {
   "cell_type": "code",
   "execution_count": 21,
   "metadata": {},
   "outputs": [],
   "source": [
    "# In fact, we find that at the weekend people are less likely to be no-shows.\n",
    "# Let's look next at patient-features."
   ]
  },
  {
   "cell_type": "code",
   "execution_count": 22,
   "metadata": {},
   "outputs": [
    {
     "name": "stdout",
     "output_type": "stream",
     "text": [
      "Gender\n",
      "0    0.203095\n",
      "1    0.199560\n",
      "Name: No-show, dtype: float64\n",
      "Hypertension\n",
      "0    0.209023\n",
      "1    0.172636\n",
      "Name: No-show, dtype: float64\n",
      "Alcoholism\n",
      "0    0.201869\n",
      "1    0.201488\n",
      "Name: No-show, dtype: float64\n",
      "Diabetes\n",
      "0    0.203541\n",
      "1    0.180111\n",
      "Name: No-show, dtype: float64\n",
      "Handicap\n",
      "0    0.202317\n",
      "1    0.176991\n",
      "2    0.202186\n",
      "3    0.230769\n",
      "4    0.333333\n",
      "Name: No-show, dtype: float64\n",
      "Scholarship\n",
      "0    0.197986\n",
      "1    0.237380\n",
      "Name: No-show, dtype: float64\n"
     ]
    }
   ],
   "source": [
    "tmp = ['Gender','Hypertension','Alcoholism','Diabetes', 'Handicap', 'Scholarship']\n",
    "for i in tmp:\n",
    "    print(data.groupby(i)['No-show'].mean())"
   ]
  },
  {
   "cell_type": "code",
   "execution_count": 23,
   "metadata": {},
   "outputs": [
    {
     "name": "stdout",
     "output_type": "stream",
     "text": [
      "Ttest_indResult(statistic=-1.3988511105167594, pvalue=0.16186153104925347)\n",
      "\n",
      "Ttest_indResult(statistic=-12.531780390172017, pvalue=5.9719492708446794e-36)\n",
      "\n",
      "Ttest_indResult(statistic=-0.054235161789887444, pvalue=0.9567508388116163)\n",
      "\n",
      "Ttest_indResult(statistic=-5.213555390039917, pvalue=1.892218820349028e-07)\n",
      "\n",
      "Ttest_indResult(statistic=-2.9613392431787866, pvalue=0.003097099383515635)\n",
      "\n",
      "Ttest_indResult(statistic=9.216091755420047, pvalue=3.5485277161526014e-20)\n",
      "\n"
     ]
    }
   ],
   "source": [
    "for i in tmp:\n",
    "    \n",
    "    x = data[data[i]==1]['No-show']\n",
    "    y = data[data[i]==0]['No-show']\n",
    "    \n",
    "    print(ttest_ind(x, y, equal_var=False))\n",
    "    print()"
   ]
  },
  {
   "cell_type": "code",
   "execution_count": 24,
   "metadata": {},
   "outputs": [],
   "source": [
    "# We can see from this that handicap status significantly affects whether a person shows up.\n",
    "# Let's explore this further."
   ]
  },
  {
   "cell_type": "code",
   "execution_count": 25,
   "metadata": {},
   "outputs": [
    {
     "data": {
      "text/plain": [
       "count    110459.000000\n",
       "mean          0.022189\n",
       "std           0.161377\n",
       "min           0.000000\n",
       "25%           0.000000\n",
       "50%           0.000000\n",
       "75%           0.000000\n",
       "max           4.000000\n",
       "Name: Handicap, dtype: float64"
      ]
     },
     "execution_count": 25,
     "metadata": {},
     "output_type": "execute_result"
    }
   ],
   "source": [
    "data['Handicap'].describe()"
   ]
  },
  {
   "cell_type": "code",
   "execution_count": 26,
   "metadata": {},
   "outputs": [
    {
     "data": {
      "text/plain": [
       "0    108226\n",
       "1      2034\n",
       "2       183\n",
       "3        13\n",
       "4         3\n",
       "Name: Handicap, dtype: int64"
      ]
     },
     "execution_count": 26,
     "metadata": {},
     "output_type": "execute_result"
    }
   ],
   "source": [
    "data['Handicap'].value_counts()"
   ]
  },
  {
   "cell_type": "code",
   "execution_count": 27,
   "metadata": {},
   "outputs": [],
   "source": [
    "data['Handicap_1'] = data['Handicap'].apply(lambda x: 1 if x==1 else 0)\n",
    "data['Handicap_2'] = data['Handicap'].apply(lambda x: 1 if x==2 else 0)\n",
    "data['Handicap_3'] = data['Handicap'].apply(lambda x: 1 if x==3 else 0)\n",
    "data['Handicap_4'] = data['Handicap'].apply(lambda x: 1 if x==4 else 0)"
   ]
  },
  {
   "cell_type": "code",
   "execution_count": 28,
   "metadata": {},
   "outputs": [],
   "source": [
    "lr = LogisticRegression()\n",
    "\n",
    "y = data['No-show']\n",
    "X = data[['Handicap']]\n",
    "\n",
    "X_train, X_test, y_train, y_test = train_test_split(X, y, test_size=0.20)"
   ]
  },
  {
   "cell_type": "code",
   "execution_count": 29,
   "metadata": {},
   "outputs": [
    {
     "data": {
      "text/plain": [
       "0.7948578671012131"
      ]
     },
     "execution_count": 29,
     "metadata": {},
     "output_type": "execute_result"
    }
   ],
   "source": [
    "lr.fit(X_train, y_train)\n",
    "lr.score(X_test, y_test)"
   ]
  },
  {
   "cell_type": "code",
   "execution_count": 30,
   "metadata": {},
   "outputs": [
    {
     "data": {
      "text/plain": [
       "0    0.794858\n",
       "1    0.205142\n",
       "Name: No-show, dtype: float64"
      ]
     },
     "execution_count": 30,
     "metadata": {},
     "output_type": "execute_result"
    }
   ],
   "source": [
    "y_test.value_counts(normalize=True)"
   ]
  },
  {
   "cell_type": "code",
   "execution_count": 31,
   "metadata": {},
   "outputs": [],
   "source": [
    "# This did not outperform baseline.\n",
    "# It might be interesting to see if level of handicap is also a factor."
   ]
  },
  {
   "cell_type": "code",
   "execution_count": 32,
   "metadata": {},
   "outputs": [
    {
     "name": "stdout",
     "output_type": "stream",
     "text": [
      "Handicap_1\n",
      "0    0.202324\n",
      "1    0.176991\n",
      "Name: No-show, dtype: float64\n",
      "Handicap_2\n",
      "0    0.201857\n",
      "1    0.202186\n",
      "Name: No-show, dtype: float64\n",
      "Handicap_3\n",
      "0    0.201854\n",
      "1    0.230769\n",
      "Name: No-show, dtype: float64\n",
      "Handicap_4\n",
      "0    0.201854\n",
      "1    0.333333\n",
      "Name: No-show, dtype: float64\n"
     ]
    }
   ],
   "source": [
    "level_of_handicap = ['Handicap_1', 'Handicap_2', 'Handicap_3', 'Handicap_4']\n",
    "for i in level_of_handicap:\n",
    "    print(data.groupby(i)['No-show'].mean())"
   ]
  },
  {
   "cell_type": "code",
   "execution_count": 33,
   "metadata": {},
   "outputs": [
    {
     "name": "stdout",
     "output_type": "stream",
     "text": [
      "Ttest_indResult(statistic=-2.962190691488796, pvalue=0.0030885855018321076)\n",
      "\n",
      "Ttest_indResult(statistic=0.011029714288401715, pvalue=0.9912117808781907)\n",
      "\n",
      "Ttest_indResult(statistic=0.23772458361099852, pvalue=0.8161043795484904)\n",
      "\n",
      "Ttest_indResult(statistic=0.3944350151792318, pvalue=0.7313450054071748)\n",
      "\n"
     ]
    }
   ],
   "source": [
    "for i in level_of_handicap:\n",
    "    \n",
    "    x = data[data[i]==1]['No-show']\n",
    "    y = data[data[i]==0]['No-show']\n",
    "    \n",
    "    print(ttest_ind(x, y, equal_var=False))\n",
    "    print()"
   ]
  },
  {
   "cell_type": "code",
   "execution_count": 34,
   "metadata": {},
   "outputs": [],
   "source": [
    "lr = LogisticRegression()\n",
    "\n",
    "y = data['No-show']\n",
    "X = data[['Handicap_1', 'Handicap_2', 'Handicap_3', 'Handicap_4']]\n",
    "\n",
    "X_train, X_test, y_train, y_test = train_test_split(X, y, test_size=0.20)"
   ]
  },
  {
   "cell_type": "code",
   "execution_count": 35,
   "metadata": {},
   "outputs": [
    {
     "data": {
      "text/plain": [
       "0.7972116603295311"
      ]
     },
     "execution_count": 35,
     "metadata": {},
     "output_type": "execute_result"
    }
   ],
   "source": [
    "lr.fit(X_train, y_train)\n",
    "lr.score(X_test, y_test)"
   ]
  },
  {
   "cell_type": "code",
   "execution_count": 36,
   "metadata": {},
   "outputs": [
    {
     "data": {
      "text/plain": [
       "0    0.797212\n",
       "1    0.202788\n",
       "Name: No-show, dtype: float64"
      ]
     },
     "execution_count": 36,
     "metadata": {},
     "output_type": "execute_result"
    }
   ],
   "source": [
    "y_test.value_counts(normalize=True)"
   ]
  },
  {
   "cell_type": "code",
   "execution_count": 44,
   "metadata": {},
   "outputs": [],
   "source": [
    "# We can look at our model's confidence. Here we see that the model performs similarly on all entries."
   ]
  },
  {
   "cell_type": "code",
   "execution_count": 45,
   "metadata": {},
   "outputs": [
    {
     "name": "stdout",
     "output_type": "stream",
     "text": [
      "[[0.79784444 0.20215556]\n",
      " [0.79784444 0.20215556]\n",
      " [0.79784444 0.20215556]\n",
      " ...\n",
      " [0.79784444 0.20215556]\n",
      " [0.79784444 0.20215556]\n",
      " [0.79784444 0.20215556]]\n"
     ]
    }
   ],
   "source": [
    "y_proba = lr.predict_proba(X_test)\n",
    "print(y_proba)"
   ]
  },
  {
   "cell_type": "code",
   "execution_count": 46,
   "metadata": {},
   "outputs": [
    {
     "data": {
      "text/plain": [
       "<matplotlib.axes._subplots.AxesSubplot at 0x27340edfc88>"
      ]
     },
     "execution_count": 46,
     "metadata": {},
     "output_type": "execute_result"
    },
    {
     "data": {
      "image/png": "[encoded data removed]",
      "text/plain": [
       "<Figure size 432x288 with 1 Axes>"
      ]
     },
     "metadata": {},
     "output_type": "display_data"
    }
   ],
   "source": [
    "from scikitplot.metrics import plot_roc\n",
    "\n",
    "plot_roc(y_test, y_proba)"
   ]
  },
  {
   "cell_type": "code",
   "execution_count": 47,
   "metadata": {},
   "outputs": [],
   "source": [
    "# Let's move to the tree classifiers."
   ]
  },
  {
   "cell_type": "code",
   "execution_count": 48,
   "metadata": {},
   "outputs": [],
   "source": [
    "from sklearn.tree import DecisionTreeClassifier\n",
    "from sklearn.ensemble import RandomForestClassifier\n",
    "dtc = DecisionTreeClassifier()"
   ]
  },
  {
   "cell_type": "code",
   "execution_count": 49,
   "metadata": {},
   "outputs": [
    {
     "data": {
      "text/plain": [
       "0.7972116603295311"
      ]
     },
     "execution_count": 49,
     "metadata": {},
     "output_type": "execute_result"
    }
   ],
   "source": [
    "dtc.fit(X_train, y_train)\n",
    "dtc.score(X_test, y_test)"
   ]
  },
  {
   "cell_type": "code",
   "execution_count": 50,
   "metadata": {},
   "outputs": [],
   "source": [
    "# The decision tree performs at baseline."
   ]
  },
  {
   "cell_type": "code",
   "execution_count": 51,
   "metadata": {},
   "outputs": [],
   "source": [
    "rfc = RandomForestClassifier(n_estimators=200)"
   ]
  },
  {
   "cell_type": "code",
   "execution_count": 52,
   "metadata": {},
   "outputs": [
    {
     "data": {
      "text/plain": [
       "0.7972116603295311"
      ]
     },
     "execution_count": 52,
     "metadata": {},
     "output_type": "execute_result"
    }
   ],
   "source": [
    "rfc.fit(X_train, y_train).score(X_test, y_test)"
   ]
  },
  {
   "cell_type": "code",
   "execution_count": 53,
   "metadata": {},
   "outputs": [
    {
     "data": {
      "text/plain": [
       "0    0.798375\n",
       "1    0.201625\n",
       "Name: No-show, dtype: float64"
      ]
     },
     "execution_count": 53,
     "metadata": {},
     "output_type": "execute_result"
    }
   ],
   "source": [
    "y_train.value_counts(normalize=True)"
   ]
  },
  {
   "cell_type": "code",
   "execution_count": 54,
   "metadata": {},
   "outputs": [],
   "source": [
    "# The ensemble model performs similarly.\n",
    "# It might be the fact that the class imbalance is so large. We can force the model to use the same number of data items from each of the no-show conditions\n",
    "# in the X_train and y_train."
   ]
  },
  {
   "cell_type": "code",
   "execution_count": 55,
   "metadata": {},
   "outputs": [],
   "source": [
    "y_train_0 = y_train[y_train==0].sample(17000)\n",
    "y_train_1 = y_train[y_train==1].sample(17000)\n",
    "\n",
    "X_train_0 = X_train.loc[y_train_0.index]\n",
    "X_train_1 = X_train.loc[y_train_1.index]\n",
    "\n",
    "X_train_balanced = pd.concat([X_train_0, X_train_1])\n",
    "y_train_balanced = pd.concat([y_train_0, y_train_1])"
   ]
  },
  {
   "cell_type": "code",
   "execution_count": 56,
   "metadata": {},
   "outputs": [
    {
     "data": {
      "text/plain": [
       "0.21410465326815137"
      ]
     },
     "execution_count": 56,
     "metadata": {},
     "output_type": "execute_result"
    }
   ],
   "source": [
    "lr.fit(X_train_balanced, y_train_balanced)\n",
    "lr.score(X_test, y_test)"
   ]
  },
  {
   "cell_type": "code",
   "execution_count": 44,
   "metadata": {},
   "outputs": [
    {
     "data": {
      "text/plain": [
       "0.21070975918884663"
      ]
     },
     "execution_count": 44,
     "metadata": {},
     "output_type": "execute_result"
    }
   ],
   "source": [
    "dtc.fit(X_train_balanced, y_train_balanced)\n",
    "dtc.score(X_test, y_test)"
   ]
  },
  {
   "cell_type": "code",
   "execution_count": 45,
   "metadata": {},
   "outputs": [
    {
     "data": {
      "text/plain": [
       "0.21070975918884663"
      ]
     },
     "execution_count": 45,
     "metadata": {},
     "output_type": "execute_result"
    }
   ],
   "source": [
    "rfc.fit(X_train_balanced, y_train_balanced)\n",
    "rfc.score(X_test, y_test)"
   ]
  },
  {
   "cell_type": "code",
   "execution_count": 57,
   "metadata": {},
   "outputs": [],
   "source": [
    "# To be continued..."
   ]
  },
  {
   "cell_type": "code",
   "execution_count": null,
   "metadata": {},
   "outputs": [],
   "source": []
  }
 ],
 "metadata": {
  "kernelspec": {
   "display_name": "Python 3",
   "language": "python",
   "name": "python3"
  },
  "language_info": {
   "codemirror_mode": {
    "name": "ipython",
    "version": 3
   },
   "file_extension": ".py",
   "mimetype": "text/x-python",
   "name": "python",
   "nbconvert_exporter": "python",
   "pygments_lexer": "ipython3",
   "version": "3.6.5"
  }
 },
 "nbformat": 4,
 "nbformat_minor": 2
}
